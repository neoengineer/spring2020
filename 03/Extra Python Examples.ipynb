{
 "cells": [
  {
   "cell_type": "code",
   "execution_count": 1,
   "metadata": {},
   "outputs": [
    {
     "name": "stdout",
     "output_type": "stream",
     "text": [
      "The Zen of Python, by Tim Peters\n",
      "\n",
      "Beautiful is better than ugly.\n",
      "Explicit is better than implicit.\n",
      "Simple is better than complex.\n",
      "Complex is better than complicated.\n",
      "Flat is better than nested.\n",
      "Sparse is better than dense.\n",
      "Readability counts.\n",
      "Special cases aren't special enough to break the rules.\n",
      "Although practicality beats purity.\n",
      "Errors should never pass silently.\n",
      "Unless explicitly silenced.\n",
      "In the face of ambiguity, refuse the temptation to guess.\n",
      "There should be one-- and preferably only one --obvious way to do it.\n",
      "Although that way may not be obvious at first unless you're Dutch.\n",
      "Now is better than never.\n",
      "Although never is often better than *right* now.\n",
      "If the implementation is hard to explain, it's a bad idea.\n",
      "If the implementation is easy to explain, it may be a good idea.\n",
      "Namespaces are one honking great idea -- let's do more of those!\n"
     ]
    }
   ],
   "source": [
    "# Import s (a string) and decode & encode (functions)\n",
    "from this import s"
   ]
  },
  {
   "cell_type": "code",
   "execution_count": 2,
   "metadata": {},
   "outputs": [],
   "source": [
    "from codecs import decode, encode"
   ]
  },
  {
   "cell_type": "code",
   "execution_count": 3,
   "metadata": {},
   "outputs": [],
   "source": [
    "# Decode s and assign to a variable called zen\n",
    "zen = decode(s, \"rot13\")\n",
    "# Rot13 decoding is synonymous with rot13 encoding,\n",
    "# therefore we can use either encode or decode"
   ]
  },
  {
   "cell_type": "code",
   "execution_count": 4,
   "metadata": {},
   "outputs": [],
   "source": [
    "zen = encode(s, \"rot13\")"
   ]
  },
  {
   "cell_type": "code",
   "execution_count": 5,
   "metadata": {},
   "outputs": [
    {
     "data": {
      "text/plain": [
       "\"THE ZEN OF PYTHON, BY TIM PETERS\\n\\nBEAUTIFUL IS BETTER THAN UGLY.\\nEXPLICIT IS BETTER THAN IMPLICIT.\\nSIMPLE IS BETTER THAN COMPLEX.\\nCOMPLEX IS BETTER THAN COMPLICATED.\\nFLAT IS BETTER THAN NESTED.\\nSPARSE IS BETTER THAN DENSE.\\nREADABILITY COUNTS.\\nSPECIAL CASES AREN'T SPECIAL ENOUGH TO BREAK THE RULES.\\nALTHOUGH PRACTICALITY BEATS PURITY.\\nERRORS SHOULD NEVER PASS SILENTLY.\\nUNLESS EXPLICITLY SILENCED.\\nIN THE FACE OF AMBIGUITY, REFUSE THE TEMPTATION TO GUESS.\\nTHERE SHOULD BE ONE-- AND PREFERABLY ONLY ONE --OBVIOUS WAY TO DO IT.\\nALTHOUGH THAT WAY MAY NOT BE OBVIOUS AT FIRST UNLESS YOU'RE DUTCH.\\nNOW IS BETTER THAN NEVER.\\nALTHOUGH NEVER IS OFTEN BETTER THAN *RIGHT* NOW.\\nIF THE IMPLEMENTATION IS HARD TO EXPLAIN, IT'S A BAD IDEA.\\nIF THE IMPLEMENTATION IS EASY TO EXPLAIN, IT MAY BE A GOOD IDEA.\\nNAMESPACES ARE ONE HONKING GREAT IDEA -- LET'S DO MORE OF THOSE!\""
      ]
     },
     "execution_count": 5,
     "metadata": {},
     "output_type": "execute_result"
    }
   ],
   "source": [
    "# Explore string methods\n",
    "zen.upper()"
   ]
  },
  {
   "cell_type": "code",
   "execution_count": 6,
   "metadata": {},
   "outputs": [
    {
     "data": {
      "text/plain": [
       "\"the zen of python, by tim peters\\n\\nbeautiful is better than ugly.\\nexplicit is better than implicit.\\nsimple is better than complex.\\ncomplex is better than complicated.\\nflat is better than nested.\\nsparse is better than dense.\\nreadability counts.\\nspecial cases aren't special enough to break the rules.\\nalthough practicality beats purity.\\nerrors should never pass silently.\\nunless explicitly silenced.\\nin the face of ambiguity, refuse the temptation to guess.\\nthere should be one-- and preferably only one --obvious way to do it.\\nalthough that way may not be obvious at first unless you're dutch.\\nnow is better than never.\\nalthough never is often better than *right* now.\\nif the implementation is hard to explain, it's a bad idea.\\nif the implementation is easy to explain, it may be a good idea.\\nnamespaces are one honking great idea -- let's do more of those!\""
      ]
     },
     "execution_count": 6,
     "metadata": {},
     "output_type": "execute_result"
    }
   ],
   "source": [
    "zen.lower()"
   ]
  },
  {
   "cell_type": "code",
   "execution_count": 7,
   "metadata": {},
   "outputs": [
    {
     "data": {
      "text/plain": [
       "\"The Zen Of Python, By Tim Peters\\n\\nBeautiful Is Better Than Ugly.\\nExplicit Is Better Than Implicit.\\nSimple Is Better Than Complex.\\nComplex Is Better Than Complicated.\\nFlat Is Better Than Nested.\\nSparse Is Better Than Dense.\\nReadability Counts.\\nSpecial Cases Aren'T Special Enough To Break The Rules.\\nAlthough Practicality Beats Purity.\\nErrors Should Never Pass Silently.\\nUnless Explicitly Silenced.\\nIn The Face Of Ambiguity, Refuse The Temptation To Guess.\\nThere Should Be One-- And Preferably Only One --Obvious Way To Do It.\\nAlthough That Way May Not Be Obvious At First Unless You'Re Dutch.\\nNow Is Better Than Never.\\nAlthough Never Is Often Better Than *Right* Now.\\nIf The Implementation Is Hard To Explain, It'S A Bad Idea.\\nIf The Implementation Is Easy To Explain, It May Be A Good Idea.\\nNamespaces Are One Honking Great Idea -- Let'S Do More Of Those!\""
      ]
     },
     "execution_count": 7,
     "metadata": {},
     "output_type": "execute_result"
    }
   ],
   "source": [
    "zen.title()"
   ]
  },
  {
   "cell_type": "code",
   "execution_count": 8,
   "metadata": {},
   "outputs": [
    {
     "data": {
      "text/plain": [
       "\"tHE zEN OF pYTHON, BY tIM pETERS\\n\\nbEAUTIFUL IS BETTER THAN UGLY.\\neXPLICIT IS BETTER THAN IMPLICIT.\\nsIMPLE IS BETTER THAN COMPLEX.\\ncOMPLEX IS BETTER THAN COMPLICATED.\\nfLAT IS BETTER THAN NESTED.\\nsPARSE IS BETTER THAN DENSE.\\nrEADABILITY COUNTS.\\nsPECIAL CASES AREN'T SPECIAL ENOUGH TO BREAK THE RULES.\\naLTHOUGH PRACTICALITY BEATS PURITY.\\neRRORS SHOULD NEVER PASS SILENTLY.\\nuNLESS EXPLICITLY SILENCED.\\niN THE FACE OF AMBIGUITY, REFUSE THE TEMPTATION TO GUESS.\\ntHERE SHOULD BE ONE-- AND PREFERABLY ONLY ONE --OBVIOUS WAY TO DO IT.\\naLTHOUGH THAT WAY MAY NOT BE OBVIOUS AT FIRST UNLESS YOU'RE dUTCH.\\nnOW IS BETTER THAN NEVER.\\naLTHOUGH NEVER IS OFTEN BETTER THAN *RIGHT* NOW.\\niF THE IMPLEMENTATION IS HARD TO EXPLAIN, IT'S A BAD IDEA.\\niF THE IMPLEMENTATION IS EASY TO EXPLAIN, IT MAY BE A GOOD IDEA.\\nnAMESPACES ARE ONE HONKING GREAT IDEA -- LET'S DO MORE OF THOSE!\""
      ]
     },
     "execution_count": 8,
     "metadata": {},
     "output_type": "execute_result"
    }
   ],
   "source": [
    "zen.swapcase()"
   ]
  },
  {
   "cell_type": "code",
   "execution_count": 9,
   "metadata": {},
   "outputs": [],
   "source": [
    "# Obtain lists of words and lines from zen\n",
    "word_list = zen.split()\n",
    "line_list = zen.splitlines()"
   ]
  },
  {
   "cell_type": "code",
   "execution_count": 10,
   "metadata": {},
   "outputs": [
    {
     "data": {
      "text/plain": [
       "856"
      ]
     },
     "execution_count": 10,
     "metadata": {},
     "output_type": "execute_result"
    }
   ],
   "source": [
    "# Count characters, words, and lines\n",
    "len(zen)"
   ]
  },
  {
   "cell_type": "code",
   "execution_count": 11,
   "metadata": {},
   "outputs": [
    {
     "data": {
      "text/plain": [
       "144"
      ]
     },
     "execution_count": 11,
     "metadata": {},
     "output_type": "execute_result"
    }
   ],
   "source": [
    "len(word_list)"
   ]
  },
  {
   "cell_type": "code",
   "execution_count": 12,
   "metadata": {},
   "outputs": [
    {
     "data": {
      "text/plain": [
       "21"
      ]
     },
     "execution_count": 12,
     "metadata": {},
     "output_type": "execute_result"
    }
   ],
   "source": [
    "len(line_list)"
   ]
  },
  {
   "cell_type": "code",
   "execution_count": 14,
   "metadata": {},
   "outputs": [
    {
     "data": {
      "text/plain": [
       "8"
      ]
     },
     "execution_count": 14,
     "metadata": {},
     "output_type": "execute_result"
    }
   ],
   "source": [
    "# Count a specific word (better) in zen \n",
    "zen.count(\"better\")"
   ]
  },
  {
   "cell_type": "code",
   "execution_count": 15,
   "metadata": {},
   "outputs": [
    {
     "data": {
      "text/plain": [
       "8"
      ]
     },
     "execution_count": 15,
     "metadata": {},
     "output_type": "execute_result"
    }
   ],
   "source": [
    "word_list.count(\"better\")"
   ]
  },
  {
   "cell_type": "code",
   "execution_count": 16,
   "metadata": {},
   "outputs": [
    {
     "data": {
      "text/plain": [
       "47"
      ]
     },
     "execution_count": 16,
     "metadata": {},
     "output_type": "execute_result"
    }
   ],
   "source": [
    "# Find the first occurence of the word \"better\"\n",
    "zen.index(\"better\")"
   ]
  },
  {
   "cell_type": "code",
   "execution_count": 17,
   "metadata": {},
   "outputs": [
    {
     "data": {
      "text/plain": [
       "9"
      ]
     },
     "execution_count": 17,
     "metadata": {},
     "output_type": "execute_result"
    }
   ],
   "source": [
    "word_list.index(\"better\")"
   ]
  },
  {
   "cell_type": "code",
   "execution_count": null,
   "metadata": {},
   "outputs": [],
   "source": [
    "# Method chaining\n",
    "# Convert to uppercase, get the word list, then\n",
    "# Count a specific word (better) in zen \n",
    "zen.upper().split().count(\"BETTER\")"
   ]
  },
  {
   "cell_type": "code",
   "execution_count": null,
   "metadata": {},
   "outputs": [],
   "source": [
    "(zen\n",
    " .upper()\n",
    " .split()\n",
    " .count(\"BETTER\")\n",
    ")\n",
    "​\n",
    "# Indexing (get one thing)\n",
    "# First character\n",
    "zen[0]\n",
    "# First word\n",
    "word_list[0]\n",
    "# Last character\n",
    "zen[-1]\n",
    "# Last word\n",
    "word_list[-1]\n",
    "​\n",
    "# Slicing (get a series of things)\n",
    "# First 10 characters\n",
    "zen[:10]\n",
    "# First 4 words\n",
    "word_list[:4]\n",
    "# Last 10 characters\n",
    "zen[-10:]\n",
    "# Last 5 words\n",
    "word_list[-5:]\n",
    "# Get 3 (7 minus 4) characters\n",
    "zen[4:7]\n",
    "# Get 3 (4 minus 1) words\n",
    "word_list[1:4]\n",
    "# Reverse a string\n",
    "zen[::-1]\n",
    "# Reverse a list\n",
    "word_list[::-1]\n",
    "# Get a midpoint\n",
    "midpoint = len(word_list) // 2\n",
    "# Use the midpoint to split a list\n",
    "# First half\n",
    "word_list[:midpoint]\n",
    "# Second half\n",
    "word_list[midpoint:]\n",
    "​\n",
    "word_list[-10:]\n",
    "zen.index(\"better\")\n",
    "​\n",
    "# Arithmetic operators\n",
    "# Plus sign (+)\n",
    "# Addition for int, float, bool\n",
    "3 + 2\n",
    "4 + 4.5\n",
    "True + False + True\n",
    "# Concatenation for str, tuple, list\n",
    "'3' + '2'\n",
    "'abc' + 'def'\n",
    "list('abc') + list('def')\n",
    "tuple('abc') + tuple('def')\n",
    "# Asterisk (*)\n",
    "# Multiplication for int, float, bool\n",
    "3 * 2\n",
    "4 * 4.5\n",
    "False * 9\n",
    "True * 3\n",
    "# Duplication and concatenation for str, tuple, list\n",
    "'3' * 4\n",
    "'abc' * 2\n",
    "list('abc') * 3\n",
    "tuple('abc') * 5\n",
    "# Comparison operators (>, <, >=, <=, ==, !=)\n",
    "\"Python\" < \"R\"\n",
    "\"Python\" > \"JavaScript\"\n",
    "# Modulo (%) divides by right-hand-side\n",
    "# and returns the remainder\n",
    "8 % 2 == 0\n",
    "5 % 2 != 0\n",
    "# Check if everything is True using and\n",
    "True and True and True\n",
    "True and False and True\n",
    "# Check if at least one thing is True using or\n",
    "True or True or True\n",
    "True or False or True\n",
    "​\n",
    "# Turn number into character\n",
    "chr(97)\n",
    "# Turn character into number\n",
    "ord(\"A\")\n",
    "​\n",
    "# Functions\n",
    "# In the case of binary results, return True or False\n",
    "def is_odd(x):\n",
    "    if x % 2 == 0:\n",
    "        return False\n",
    "    return True\n",
    "​\n",
    "# For non-binary results, return strings\n",
    "def hi_mid_lo(x):\n",
    "    if x > 7:\n",
    "        return \"hi\"\n",
    "    if x > 4:\n",
    "        return \"mid\"\n",
    "    return \"lo\"\n",
    "​\n",
    "# Without a return statement, functions return None\n",
    "def myfunc(x):\n",
    "    x\n",
    "​\n",
    "is_odd(5)\n",
    "is_odd(8)\n",
    "hi_mid_lo(3)\n",
    "hi_mid_lo(5)\n",
    "hi_mid_lo(8)\n",
    "type(myfunc(5))\n",
    "​\n",
    "# List comprehensions\n",
    "# Uppercase_alphabet \n",
    "[chr(x) for x in range(65, 91)]\n",
    "# Lowercase_alphabet \n",
    "[chr(x) for x in range(97, 123)]\n",
    "# Lowercase_alphabet \n",
    "[chr(x) for x in range(97, 123)]\n",
    "# Odd numbers\n",
    "[x for x in range(9) if is_odd(x)]\n",
    "[x for x in range(9) if x % 2 != 0]\n",
    "# Even numbers\n",
    "[x for x in range(9) if x % 2 == 0]\n",
    "# Square even numbers\n",
    "[x**2 for x in range(9) if x % 2 == 0]\n",
    "# Even numbers greater than 4\n",
    "[x for x in range(9) if x % 2 == 0 if x > 4]\n",
    "[x for x in range(9) if x % 2 == 0 and x > 4]\n",
    "# Get a numbers if it is even OR greater than 4\n",
    "[x for x in range(9) if x % 2 == 0 or x > 4]\n",
    "​\n",
    "# Boolean values (bools)\n",
    "bools = True, False, True\n",
    "# Count how many times True occur\n",
    "sum(bools)\n",
    "# Count the proportion of True\n",
    "sum(bools) / len(bools)\n",
    "# Count the percentage of True\n",
    "sum(bools) / len(bools) * 100\n",
    "​\n",
    "from pathlib import Path\n",
    "​\n",
    "# Save zen to a text file\n",
    "Path(\"zen.txt\").write_text(zen)\n",
    "# Read in the zen text file and assign to a variable\n",
    "python_poem = Path(\"zen.txt\").read_text()\n",
    "print(python_poem)\n",
    "​\n",
    "import joblib\n",
    "​\n",
    "# Save zen to a zip file with joblib\n",
    "joblib.dump(zen, \"zen.zip\")\n",
    "\n",
    "# Read in the zen zip file and assign to a variable with joblib\n",
    "python_poem2 = joblib.load(\"zen.zip\")\n",
    "\n",
    "print(python_poem2)"
   ]
  }
 ],
 "metadata": {
  "kernelspec": {
   "display_name": "Python 3",
   "language": "python",
   "name": "python3"
  },
  "language_info": {
   "codemirror_mode": {
    "name": "ipython",
    "version": 3
   },
   "file_extension": ".py",
   "mimetype": "text/x-python",
   "name": "python",
   "nbconvert_exporter": "python",
   "pygments_lexer": "ipython3",
   "version": "3.7.6"
  }
 },
 "nbformat": 4,
 "nbformat_minor": 4
}
